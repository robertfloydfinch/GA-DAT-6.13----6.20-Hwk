{
 "cells": [
  {
   "cell_type": "markdown",
   "metadata": {},
   "source": [
    "# Ames Data Exercise for 7.9 Lecture\n",
    "\n",
    "*By Rob Finch*"
   ]
  },
  {
   "cell_type": "markdown",
   "metadata": {},
   "source": [
    "### The Problem (from Lesson 5, Notebook 3):\n",
    "\n",
    "Return to your Ames Data.  We have covered a lot of ground today, so let's summarize the things we could do to improve the performance of our original model that compared the Above Ground Living Area to the Logarithm of the Sale Price.\n",
    "<div class=\"alert alert-info\" role=\"alert\">\n",
    "1. Clean data, drop missing values\n",
    "2. Transform data, code variables using either ordinal values or OneHotEncoder methods\n",
    "3. Create more features from existing features\n",
    "4. Split our data into testing and training sets\n",
    "5. Normalize quantitative features\n",
    "6. Use Regularized Regression methods and Polynomial regression to improve performance of model\n",
    "</div>\n",
    "Can you use some or all of these ideas to improve upon your initial model?"
   ]
  },
  {
   "cell_type": "markdown",
   "metadata": {},
   "source": [
    "## Section 1: Cleaning Data"
   ]
  },
  {
   "cell_type": "code",
   "execution_count": 34,
   "metadata": {
    "scrolled": true
   },
   "outputs": [
    {
     "name": "stdout",
     "output_type": "stream",
     "text": [
      "<class 'pandas.core.frame.DataFrame'>\n",
      "RangeIndex: 1460 entries, 0 to 1459\n",
      "Data columns (total 81 columns):\n",
      "Id               1460 non-null int64\n",
      "MSSubClass       1460 non-null int64\n",
      "MSZoning         1460 non-null object\n",
      "LotFrontage      1201 non-null float64\n",
      "LotArea          1460 non-null int64\n",
      "Street           1460 non-null object\n",
      "Alley            91 non-null object\n",
      "LotShape         1460 non-null object\n",
      "LandContour      1460 non-null object\n",
      "Utilities        1460 non-null object\n",
      "LotConfig        1460 non-null object\n",
      "LandSlope        1460 non-null object\n",
      "Neighborhood     1460 non-null object\n",
      "Condition1       1460 non-null object\n",
      "Condition2       1460 non-null object\n",
      "BldgType         1460 non-null object\n",
      "HouseStyle       1460 non-null object\n",
      "OverallQual      1460 non-null int64\n",
      "OverallCond      1460 non-null int64\n",
      "YearBuilt        1460 non-null int64\n",
      "YearRemodAdd     1460 non-null int64\n",
      "RoofStyle        1460 non-null object\n",
      "RoofMatl         1460 non-null object\n",
      "Exterior1st      1460 non-null object\n",
      "Exterior2nd      1460 non-null object\n",
      "MasVnrType       1452 non-null object\n",
      "MasVnrArea       1452 non-null float64\n",
      "ExterQual        1460 non-null object\n",
      "ExterCond        1460 non-null object\n",
      "Foundation       1460 non-null object\n",
      "BsmtQual         1423 non-null object\n",
      "BsmtCond         1423 non-null object\n",
      "BsmtExposure     1422 non-null object\n",
      "BsmtFinType1     1423 non-null object\n",
      "BsmtFinSF1       1460 non-null int64\n",
      "BsmtFinType2     1422 non-null object\n",
      "BsmtFinSF2       1460 non-null int64\n",
      "BsmtUnfSF        1460 non-null int64\n",
      "TotalBsmtSF      1460 non-null int64\n",
      "Heating          1460 non-null object\n",
      "HeatingQC        1460 non-null object\n",
      "CentralAir       1460 non-null object\n",
      "Electrical       1459 non-null object\n",
      "1stFlrSF         1460 non-null int64\n",
      "2ndFlrSF         1460 non-null int64\n",
      "LowQualFinSF     1460 non-null int64\n",
      "GrLivArea        1460 non-null int64\n",
      "BsmtFullBath     1460 non-null int64\n",
      "BsmtHalfBath     1460 non-null int64\n",
      "FullBath         1460 non-null int64\n",
      "HalfBath         1460 non-null int64\n",
      "BedroomAbvGr     1460 non-null int64\n",
      "KitchenAbvGr     1460 non-null int64\n",
      "KitchenQual      1460 non-null object\n",
      "TotRmsAbvGrd     1460 non-null int64\n",
      "Functional       1460 non-null object\n",
      "Fireplaces       1460 non-null int64\n",
      "FireplaceQu      770 non-null object\n",
      "GarageType       1379 non-null object\n",
      "GarageYrBlt      1379 non-null float64\n",
      "GarageFinish     1379 non-null object\n",
      "GarageCars       1460 non-null int64\n",
      "GarageArea       1460 non-null int64\n",
      "GarageQual       1379 non-null object\n",
      "GarageCond       1379 non-null object\n",
      "PavedDrive       1460 non-null object\n",
      "WoodDeckSF       1460 non-null int64\n",
      "OpenPorchSF      1460 non-null int64\n",
      "EnclosedPorch    1460 non-null int64\n",
      "3SsnPorch        1460 non-null int64\n",
      "ScreenPorch      1460 non-null int64\n",
      "PoolArea         1460 non-null int64\n",
      "PoolQC           7 non-null object\n",
      "Fence            281 non-null object\n",
      "MiscFeature      54 non-null object\n",
      "MiscVal          1460 non-null int64\n",
      "MoSold           1460 non-null int64\n",
      "YrSold           1460 non-null int64\n",
      "SaleType         1460 non-null object\n",
      "SaleCondition    1460 non-null object\n",
      "SalePrice        1460 non-null int64\n",
      "dtypes: float64(3), int64(35), object(43)\n",
      "memory usage: 924.0+ KB\n"
     ]
    }
   ],
   "source": [
    "%matplotlib notebook\n",
    "import matplotlib.pyplot as plt\n",
    "import numpy as np\n",
    "import pandas as pd\n",
    "ames = pd.read_csv('data/ames_housing.csv')\n",
    "ames.info()"
   ]
  },
  {
   "cell_type": "markdown",
   "metadata": {},
   "source": [
    "**Here, I'm filling each object type cell with \"none.\"  I checked the data in each column and the data appears to be dependent on the property, so using \"None\" with each of these is a safe bet.**"
   ]
  },
  {
   "cell_type": "code",
   "execution_count": 35,
   "metadata": {},
   "outputs": [],
   "source": [
    "ames['Alley'] = ames['Alley'].fillna('None')\n",
    "ames['MasVnrType'] = ames['MasVnrType'].fillna('None')\n",
    "ames['BsmtQual'] = ames['BsmtQual'].fillna('None')\n",
    "ames['BsmtCond'] = ames['BsmtCond'].fillna('None')\n",
    "ames['BsmtExposure'] = ames['BsmtExposure'].fillna('None')\n",
    "ames['BsmtFinType1'] = ames['BsmtFinType1'].fillna('None')\n",
    "ames['BsmtFinType2'] = ames['BsmtFinType2'].fillna('None')\n",
    "ames['Electrical'] = ames['Electrical'].fillna('None')\n",
    "ames['FireplaceQu'] = ames['FireplaceQu'].fillna('None')\n",
    "ames['GarageType'] = ames['GarageType'].fillna('None')\n",
    "ames['GarageFinish'] = ames['GarageFinish'].fillna('None')\n",
    "ames['GarageQual'] = ames['GarageQual'].fillna('None')\n",
    "ames['GarageCond'] = ames['GarageCond'].fillna('None')\n",
    "ames['PoolQC'] = ames['PoolQC'].fillna('None')\n",
    "ames['Fence'] = ames['Fence'].fillna('None')\n",
    "ames['MiscFeature'] = ames['MiscFeature'].fillna('None')"
   ]
  },
  {
   "cell_type": "markdown",
   "metadata": {},
   "source": [
    "**Similarly to the object type series with missing data, the three float series with missing values are because they don't have the data (lot frontage) or a feature doesn't apply (MasVnrArea & GarageYrBuilt).**"
   ]
  },
  {
   "cell_type": "code",
   "execution_count": 36,
   "metadata": {},
   "outputs": [],
   "source": [
    "ames['LotFrontage'] = ames['LotFrontage'].fillna(0.0)\n",
    "ames['MasVnrArea'] = ames['MasVnrArea'].fillna(0.0)\n",
    "ames['GarageYrBlt'] = ames['GarageYrBlt'].fillna(0.0)"
   ]
  },
  {
   "cell_type": "markdown",
   "metadata": {},
   "source": [
    "**Now we check the data again and see that all columns/rows are filled with a value so we can do our analysis.**"
   ]
  },
  {
   "cell_type": "code",
   "execution_count": 37,
   "metadata": {
    "scrolled": true
   },
   "outputs": [
    {
     "name": "stdout",
     "output_type": "stream",
     "text": [
      "<class 'pandas.core.frame.DataFrame'>\n",
      "RangeIndex: 1460 entries, 0 to 1459\n",
      "Data columns (total 81 columns):\n",
      "Id               1460 non-null int64\n",
      "MSSubClass       1460 non-null int64\n",
      "MSZoning         1460 non-null object\n",
      "LotFrontage      1460 non-null float64\n",
      "LotArea          1460 non-null int64\n",
      "Street           1460 non-null object\n",
      "Alley            1460 non-null object\n",
      "LotShape         1460 non-null object\n",
      "LandContour      1460 non-null object\n",
      "Utilities        1460 non-null object\n",
      "LotConfig        1460 non-null object\n",
      "LandSlope        1460 non-null object\n",
      "Neighborhood     1460 non-null object\n",
      "Condition1       1460 non-null object\n",
      "Condition2       1460 non-null object\n",
      "BldgType         1460 non-null object\n",
      "HouseStyle       1460 non-null object\n",
      "OverallQual      1460 non-null int64\n",
      "OverallCond      1460 non-null int64\n",
      "YearBuilt        1460 non-null int64\n",
      "YearRemodAdd     1460 non-null int64\n",
      "RoofStyle        1460 non-null object\n",
      "RoofMatl         1460 non-null object\n",
      "Exterior1st      1460 non-null object\n",
      "Exterior2nd      1460 non-null object\n",
      "MasVnrType       1460 non-null object\n",
      "MasVnrArea       1460 non-null float64\n",
      "ExterQual        1460 non-null object\n",
      "ExterCond        1460 non-null object\n",
      "Foundation       1460 non-null object\n",
      "BsmtQual         1460 non-null object\n",
      "BsmtCond         1460 non-null object\n",
      "BsmtExposure     1460 non-null object\n",
      "BsmtFinType1     1460 non-null object\n",
      "BsmtFinSF1       1460 non-null int64\n",
      "BsmtFinType2     1460 non-null object\n",
      "BsmtFinSF2       1460 non-null int64\n",
      "BsmtUnfSF        1460 non-null int64\n",
      "TotalBsmtSF      1460 non-null int64\n",
      "Heating          1460 non-null object\n",
      "HeatingQC        1460 non-null object\n",
      "CentralAir       1460 non-null object\n",
      "Electrical       1460 non-null object\n",
      "1stFlrSF         1460 non-null int64\n",
      "2ndFlrSF         1460 non-null int64\n",
      "LowQualFinSF     1460 non-null int64\n",
      "GrLivArea        1460 non-null int64\n",
      "BsmtFullBath     1460 non-null int64\n",
      "BsmtHalfBath     1460 non-null int64\n",
      "FullBath         1460 non-null int64\n",
      "HalfBath         1460 non-null int64\n",
      "BedroomAbvGr     1460 non-null int64\n",
      "KitchenAbvGr     1460 non-null int64\n",
      "KitchenQual      1460 non-null object\n",
      "TotRmsAbvGrd     1460 non-null int64\n",
      "Functional       1460 non-null object\n",
      "Fireplaces       1460 non-null int64\n",
      "FireplaceQu      1460 non-null object\n",
      "GarageType       1460 non-null object\n",
      "GarageYrBlt      1460 non-null float64\n",
      "GarageFinish     1460 non-null object\n",
      "GarageCars       1460 non-null int64\n",
      "GarageArea       1460 non-null int64\n",
      "GarageQual       1460 non-null object\n",
      "GarageCond       1460 non-null object\n",
      "PavedDrive       1460 non-null object\n",
      "WoodDeckSF       1460 non-null int64\n",
      "OpenPorchSF      1460 non-null int64\n",
      "EnclosedPorch    1460 non-null int64\n",
      "3SsnPorch        1460 non-null int64\n",
      "ScreenPorch      1460 non-null int64\n",
      "PoolArea         1460 non-null int64\n",
      "PoolQC           1460 non-null object\n",
      "Fence            1460 non-null object\n",
      "MiscFeature      1460 non-null object\n",
      "MiscVal          1460 non-null int64\n",
      "MoSold           1460 non-null int64\n",
      "YrSold           1460 non-null int64\n",
      "SaleType         1460 non-null object\n",
      "SaleCondition    1460 non-null object\n",
      "SalePrice        1460 non-null int64\n",
      "dtypes: float64(3), int64(35), object(43)\n",
      "memory usage: 924.0+ KB\n"
     ]
    }
   ],
   "source": [
    "ames.info()"
   ]
  },
  {
   "cell_type": "markdown",
   "metadata": {},
   "source": [
    "## Section 2: Transforming the dataset\n",
    "\n",
    "Here, I've gone ahead and ranked some of the columns in ordinal values where applicable.  Note that, rather than using the *.replace* method in the notebook exampes, I chose to add new columns for these and preserved the original data as-is, via the *.map* method.\n",
    "\n",
    "For other data series, there was either not enough information to rank the values appropriately, or the series did not belong in a set order."
   ]
  },
  {
   "cell_type": "code",
   "execution_count": 38,
   "metadata": {},
   "outputs": [],
   "source": [
    "ames['StreetOrd'] = ames['Street'].map({'Grvl': 1, 'Pave': 2})\n",
    "ames['UtilitiesOrd'] = ames['Utilities'].map({'NoSeWa': 1, 'AllPub': 2})\n",
    "ames['ExterQualOrd'] = ames['ExterQual'].map({\"Po\" : 1, \"Fa\" : 2, \"TA\": 3, \"Gd\" : 4, \"Ex\" : 5})\n",
    "ames['ExterCondOrd'] = ames['ExterCond'].map({\"Po\" : 1, \"Fa\" : 2, \"TA\": 3, \"Gd\" : 4, \"Ex\" : 5})\n",
    "ames['BsmtQualOrd'] = ames['BsmtQual'].map({\"Po\" : 1, \"Fa\" : 2, \"TA\": 3, \"Gd\" : 4, \"Ex\" : 5})\n",
    "ames['BsmtCondOrd'] = ames['BsmtCond'].map({\"Po\" : 1, \"Fa\" : 2, \"TA\": 3, \"Gd\" : 4, \"Ex\" : 5})\n",
    "ames['KitchenQualOrd'] = ames['KitchenQual'].map({\"Po\" : 1, \"Fa\" : 2, \"TA\": 3, \"Gd\" : 4, \"Ex\" : 5})\n",
    "ames['GarageQualOrd'] = ames['GarageQual'].map({'NA': 0, \"Po\" : 1, \"Fa\" : 2, \"TA\": 3, \"Gd\" : 4, \"Ex\" : 5})\n",
    "ames['GarageCondOrd'] = ames['GarageCond'].map({'NA': 0, \"Po\" : 1, \"Fa\" : 2, \"TA\": 3, \"Gd\" : 4, \"Ex\" : 5})"
   ]
  },
  {
   "cell_type": "markdown",
   "metadata": {},
   "source": [
    "## Section 3: Adding New Features"
   ]
  },
  {
   "cell_type": "markdown",
   "metadata": {},
   "source": [
    "Below, I've added composite columns that take both the condition and quality values of each property into account when evaluating."
   ]
  },
  {
   "cell_type": "code",
   "execution_count": 39,
   "metadata": {},
   "outputs": [],
   "source": [
    "ames['BasementOverall'] = ames['BsmtCondOrd'] * ames['BsmtQualOrd']\n",
    "ames['Overall'] = ames['OverallQual'] * ames['OverallCond']\n",
    "ames['GarageOverall'] = ames['GarageCondOrd'] * ames['GarageQualOrd']\n",
    "ames['ExternalOverall'] = ames['ExterCondOrd'] * ames['ExterQualOrd']"
   ]
  },
  {
   "cell_type": "markdown",
   "metadata": {},
   "source": [
    "### Now let's check the initial correlations.  As my variable to model against, I'm working with home sale price."
   ]
  },
  {
   "cell_type": "code",
   "execution_count": 40,
   "metadata": {
    "scrolled": true
   },
   "outputs": [
    {
     "data": {
      "text/plain": [
       "Id                -0.021917\n",
       "MSSubClass        -0.084284\n",
       "LotFrontage        0.209624\n",
       "LotArea            0.263843\n",
       "OverallQual        0.790982\n",
       "OverallCond       -0.077856\n",
       "YearBuilt          0.522897\n",
       "YearRemodAdd       0.507101\n",
       "MasVnrArea         0.472614\n",
       "BsmtFinSF1         0.386420\n",
       "BsmtFinSF2        -0.011378\n",
       "BsmtUnfSF          0.214479\n",
       "TotalBsmtSF        0.613581\n",
       "1stFlrSF           0.605852\n",
       "2ndFlrSF           0.319334\n",
       "LowQualFinSF      -0.025606\n",
       "GrLivArea          0.708624\n",
       "BsmtFullBath       0.227122\n",
       "BsmtHalfBath      -0.016844\n",
       "FullBath           0.560664\n",
       "HalfBath           0.284108\n",
       "BedroomAbvGr       0.168213\n",
       "KitchenAbvGr      -0.135907\n",
       "TotRmsAbvGrd       0.533723\n",
       "Fireplaces         0.466929\n",
       "GarageYrBlt        0.261366\n",
       "GarageCars         0.640409\n",
       "GarageArea         0.623431\n",
       "WoodDeckSF         0.324413\n",
       "OpenPorchSF        0.315856\n",
       "EnclosedPorch     -0.128578\n",
       "3SsnPorch          0.044584\n",
       "ScreenPorch        0.111447\n",
       "PoolArea           0.092404\n",
       "MiscVal           -0.021190\n",
       "MoSold             0.046432\n",
       "YrSold            -0.028923\n",
       "SalePrice          1.000000\n",
       "StreetOrd          0.041036\n",
       "UtilitiesOrd       0.014314\n",
       "ExterQualOrd       0.682639\n",
       "ExterCondOrd       0.018899\n",
       "BsmtQualOrd        0.644019\n",
       "BsmtCondOrd        0.160658\n",
       "KitchenQualOrd     0.659600\n",
       "GarageQualOrd      0.156693\n",
       "GarageCondOrd      0.125013\n",
       "BasementOverall    0.599018\n",
       "Overall            0.565294\n",
       "GarageOverall      0.142566\n",
       "ExternalOverall    0.576287\n",
       "Name: SalePrice, dtype: float64"
      ]
     },
     "execution_count": 40,
     "metadata": {},
     "output_type": "execute_result"
    }
   ],
   "source": [
    "corr = ames.corr()\n",
    "corr.SalePrice"
   ]
  },
  {
   "cell_type": "markdown",
   "metadata": {},
   "source": [
    "** After running the initial correlation against home sale price, the * OverallQual * variable appears to correlate most strongly and should be a part of my initial model: **\n"
   ]
  },
  {
   "cell_type": "code",
   "execution_count": 41,
   "metadata": {},
   "outputs": [
    {
     "name": "stdout",
     "output_type": "stream",
     "text": [
      "MSE: 2360934371.5670 \n",
      "RMSE: 48589.4471\n"
     ]
    }
   ],
   "source": [
    "from sklearn.linear_model import LinearRegression\n",
    "from sklearn.metrics import mean_squared_error\n",
    "from sklearn.pipeline import make_pipeline\n",
    "from sklearn.preprocessing import PolynomialFeatures\n",
    "from sklearn.preprocessing import StandardScaler, MinMaxScaler\n",
    "\n",
    "X = ames[['OverallQual']]\n",
    "y = ames[['SalePrice']]\n",
    "\n",
    "lr = LinearRegression()\n",
    "lr.fit(X, y)\n",
    "pred = lr.predict(X)\n",
    "mse = mean_squared_error(pred, y)\n",
    "rmse = np.sqrt(mse)\n",
    "print('MSE: {:.4f}'.format(mse), '\\nRMSE: {:.4f}'.format(rmse))"
   ]
  },
  {
   "cell_type": "markdown",
   "metadata": {},
   "source": [
    "With a RMSE of 48,589, let's see what we can do improve our model."
   ]
  },
  {
   "cell_type": "markdown",
   "metadata": {},
   "source": [
    "# Method 2: Polynomial Features"
   ]
  },
  {
   "cell_type": "markdown",
   "metadata": {},
   "source": [
    "Here we are adding a 2nd degree to the equation using PolynomialFeatures."
   ]
  },
  {
   "cell_type": "code",
   "execution_count": 42,
   "metadata": {},
   "outputs": [
    {
     "data": {
      "text/plain": [
       "Pipeline(memory=None,\n",
       "     steps=[('polynomialfeatures', PolynomialFeatures(degree=2, include_bias=True, interaction_only=False)), ('linearregression', LinearRegression(copy_X=True, fit_intercept=True, n_jobs=1, normalize=False))])"
      ]
     },
     "execution_count": 42,
     "metadata": {},
     "output_type": "execute_result"
    }
   ],
   "source": [
    "pipe = make_pipeline(PolynomialFeatures(2),\n",
    "                     LinearRegression())\n",
    "\n",
    "X = ames[['OverallQual']]\n",
    "y = ames[['SalePrice']]\n",
    "\n",
    "pipe.fit(X, y)"
   ]
  },
  {
   "cell_type": "code",
   "execution_count": 43,
   "metadata": {},
   "outputs": [],
   "source": [
    "predictions_square = pipe.predict(X)"
   ]
  },
  {
   "cell_type": "code",
   "execution_count": 44,
   "metadata": {},
   "outputs": [
    {
     "data": {
      "text/plain": [
       "45032.69069407139"
      ]
     },
     "execution_count": 44,
     "metadata": {},
     "output_type": "execute_result"
    }
   ],
   "source": [
    "np.sqrt(mean_squared_error(predictions_square, y))"
   ]
  },
  {
   "cell_type": "markdown",
   "metadata": {},
   "source": [
    "With adding a polynomial feature of 2, we improved the RMSE a little bit, but not a lot.  Let's explore what cubing it does:"
   ]
  },
  {
   "cell_type": "code",
   "execution_count": 45,
   "metadata": {},
   "outputs": [
    {
     "data": {
      "text/plain": [
       "Pipeline(memory=None,\n",
       "     steps=[('polynomialfeatures', PolynomialFeatures(degree=3, include_bias=True, interaction_only=False)), ('linearregression', LinearRegression(copy_X=True, fit_intercept=True, n_jobs=1, normalize=False))])"
      ]
     },
     "execution_count": 45,
     "metadata": {},
     "output_type": "execute_result"
    }
   ],
   "source": [
    "pipe = make_pipeline(PolynomialFeatures(3),\n",
    "                     LinearRegression())\n",
    "\n",
    "X = ames[['OverallQual']]\n",
    "y = ames[['SalePrice']]\n",
    "\n",
    "pipe.fit(X, y)"
   ]
  },
  {
   "cell_type": "code",
   "execution_count": 46,
   "metadata": {},
   "outputs": [],
   "source": [
    "predictions_cube = pipe.predict(X)"
   ]
  },
  {
   "cell_type": "code",
   "execution_count": 47,
   "metadata": {},
   "outputs": [
    {
     "data": {
      "text/plain": [
       "44818.65310265686"
      ]
     },
     "execution_count": 47,
     "metadata": {},
     "output_type": "execute_result"
    }
   ],
   "source": [
    "np.sqrt(mean_squared_error(predictions_cube, y))"
   ]
  },
  {
   "cell_type": "markdown",
   "metadata": {},
   "source": [
    "The improvement here is more negligible still.  I am adding 'GrLivArea' and 'GarageCars' to the X side of the graph to enhance the model as well."
   ]
  },
  {
   "cell_type": "code",
   "execution_count": 48,
   "metadata": {},
   "outputs": [
    {
     "data": {
      "text/plain": [
       "Pipeline(memory=None,\n",
       "     steps=[('polynomialfeatures', PolynomialFeatures(degree=3, include_bias=True, interaction_only=False)), ('linearregression', LinearRegression(copy_X=True, fit_intercept=True, n_jobs=1, normalize=False))])"
      ]
     },
     "execution_count": 48,
     "metadata": {},
     "output_type": "execute_result"
    }
   ],
   "source": [
    "pipe = make_pipeline(PolynomialFeatures(3),\n",
    "                     LinearRegression())\n",
    "\n",
    "X_new = ames[['OverallQual', 'GrLivArea', 'GarageCars']]\n",
    "y = ames[['SalePrice']]\n",
    "\n",
    "pipe.fit(X_new, y)"
   ]
  },
  {
   "cell_type": "code",
   "execution_count": 49,
   "metadata": {},
   "outputs": [],
   "source": [
    "predictions_cube_multi = pipe.predict(X_new)"
   ]
  },
  {
   "cell_type": "code",
   "execution_count": 50,
   "metadata": {},
   "outputs": [
    {
     "data": {
      "text/plain": [
       "33716.0258764879"
      ]
     },
     "execution_count": 50,
     "metadata": {},
     "output_type": "execute_result"
    }
   ],
   "source": [
    "np.sqrt(mean_squared_error(predictions_cube_multi, y))"
   ]
  },
  {
   "cell_type": "markdown",
   "metadata": {},
   "source": [
    "We are making *some* progress here, but the RMSE is still higher than we would like it to be.\n",
    "\n",
    "Now, we are going to use the GridSearch function to enhance our model and find which polynomial features are the best."
   ]
  },
  {
   "cell_type": "code",
   "execution_count": 61,
   "metadata": {},
   "outputs": [
    {
     "name": "stdout",
     "output_type": "stream",
     "text": [
      "Pipeline(memory=None,\n",
      "     steps=[('polynomialfeatures', PolynomialFeatures(degree=5, include_bias=True, interaction_only=False)), ('linearregression', LinearRegression(copy_X=True, fit_intercept=True, n_jobs=1, normalize=False))])\n"
     ]
    }
   ],
   "source": [
    "from sklearn.model_selection import GridSearchCV\n",
    "\n",
    "pipe = make_pipeline(PolynomialFeatures(), LinearRegression())\n",
    "degrees = {'polynomialfeatures__degree': [i for i in range(1, 10)]}\n",
    "grid = GridSearchCV(pipe, param_grid=degrees, cv=5)\n",
    "grid.fit(X.values.reshape(-1,1), y)\n",
    "best = grid.best_estimator_\n",
    "\n",
    "print(best)"
   ]
  },
  {
   "cell_type": "markdown",
   "metadata": {},
   "source": [
    "As we can see from the above, the best degree for the polynomial features is 5.  Plugging that into the model once again, we get:"
   ]
  },
  {
   "cell_type": "code",
   "execution_count": 62,
   "metadata": {},
   "outputs": [
    {
     "data": {
      "text/plain": [
       "Pipeline(memory=None,\n",
       "     steps=[('polynomialfeatures', PolynomialFeatures(degree=5, include_bias=True, interaction_only=False)), ('linearregression', LinearRegression(copy_X=True, fit_intercept=True, n_jobs=1, normalize=False))])"
      ]
     },
     "execution_count": 62,
     "metadata": {},
     "output_type": "execute_result"
    }
   ],
   "source": [
    "pipe = make_pipeline(PolynomialFeatures(5),\n",
    "                     LinearRegression())\n",
    "\n",
    "X_new = ames[['OverallQual', 'GrLivArea', 'GarageCars']]\n",
    "y = ames[['SalePrice']]\n",
    "\n",
    "pipe.fit(X_new, y)"
   ]
  },
  {
   "cell_type": "code",
   "execution_count": 63,
   "metadata": {},
   "outputs": [
    {
     "data": {
      "text/plain": [
       "33040.14424608441"
      ]
     },
     "execution_count": 63,
     "metadata": {},
     "output_type": "execute_result"
    }
   ],
   "source": [
    "predictions_cube_5 = pipe.predict(X_new)\n",
    "np.sqrt(mean_squared_error(predictions_cube_5, y))"
   ]
  },
  {
   "cell_type": "markdown",
   "metadata": {},
   "source": [
    "We get a marginally improved RMSE."
   ]
  },
  {
   "cell_type": "markdown",
   "metadata": {},
   "source": [
    "# Method 3: Train-Test Split"
   ]
  },
  {
   "cell_type": "code",
   "execution_count": 64,
   "metadata": {},
   "outputs": [],
   "source": [
    "from sklearn.model_selection import train_test_split\n",
    "\n",
    "X_new_train, X_new_test, y_train, y_test = train_test_split(X_new, y)"
   ]
  },
  {
   "cell_type": "code",
   "execution_count": 65,
   "metadata": {},
   "outputs": [
    {
     "data": {
      "text/plain": [
       "LinearRegression(copy_X=True, fit_intercept=True, n_jobs=1, normalize=False)"
      ]
     },
     "execution_count": 65,
     "metadata": {},
     "output_type": "execute_result"
    }
   ],
   "source": [
    "lm = LinearRegression()\n",
    "lm.fit(X_new_train, y_train)"
   ]
  },
  {
   "cell_type": "code",
   "execution_count": 66,
   "metadata": {},
   "outputs": [
    {
     "name": "stdout",
     "output_type": "stream",
     "text": [
      "MSE:  1855815818.6992543 \n",
      "RMSE:  43079.18080348388\n"
     ]
    }
   ],
   "source": [
    "predictions_new = lm.predict(X_new_test)\n",
    "mse = mean_squared_error(y_test, predictions_new)\n",
    "rmse = np.sqrt(mse)\n",
    "print(\"MSE: \", mse, \"\\nRMSE: \", rmse)"
   ]
  },
  {
   "cell_type": "markdown",
   "metadata": {},
   "source": [
    "Here we will combine the split with some polynomial functionality (again with a degree of 5 from our grid example) to see if we can improve:"
   ]
  },
  {
   "cell_type": "code",
   "execution_count": 75,
   "metadata": {},
   "outputs": [
    {
     "data": {
      "text/plain": [
       "Pipeline(memory=None,\n",
       "     steps=[('polynomialfeatures', PolynomialFeatures(degree=5, include_bias=True, interaction_only=False)), ('linearregression', LinearRegression(copy_X=True, fit_intercept=True, n_jobs=1, normalize=False))])"
      ]
     },
     "execution_count": 75,
     "metadata": {},
     "output_type": "execute_result"
    }
   ],
   "source": [
    "pipe = make_pipeline(PolynomialFeatures(5),\n",
    "                     LinearRegression())\n",
    "\n",
    "X_new = ames[['OverallQual', 'GrLivArea', 'GarageCars']]\n",
    "y = ames[['SalePrice']]\n",
    "\n",
    "pipe.fit(X_new_train, y_train)"
   ]
  },
  {
   "cell_type": "code",
   "execution_count": 76,
   "metadata": {},
   "outputs": [
    {
     "name": "stdout",
     "output_type": "stream",
     "text": [
      "MSE:  1273843436.6018903 \n",
      "RMSE:  35690.94334144014\n"
     ]
    }
   ],
   "source": [
    "predictions_cube_multi_test = pipe.predict(X_new_test)\n",
    "mse = mean_squared_error(y_test, predictions_cube_multi_test)\n",
    "rmse = np.sqrt(mse)\n",
    "print(\"MSE: \", mse, \"\\nRMSE: \", rmse)"
   ]
  },
  {
   "cell_type": "markdown",
   "metadata": {},
   "source": [
    "## Trying StandardScaler"
   ]
  },
  {
   "cell_type": "code",
   "execution_count": 77,
   "metadata": {},
   "outputs": [],
   "source": [
    "ames_test = ames.select_dtypes('int64')"
   ]
  },
  {
   "cell_type": "code",
   "execution_count": 78,
   "metadata": {
    "scrolled": true
   },
   "outputs": [
    {
     "name": "stdout",
     "output_type": "stream",
     "text": [
      "<class 'pandas.core.frame.DataFrame'>\n",
      "RangeIndex: 1460 entries, 0 to 1459\n",
      "Data columns (total 42 columns):\n",
      "Id                 1460 non-null int64\n",
      "MSSubClass         1460 non-null int64\n",
      "LotArea            1460 non-null int64\n",
      "OverallQual        1460 non-null int64\n",
      "OverallCond        1460 non-null int64\n",
      "YearBuilt          1460 non-null int64\n",
      "YearRemodAdd       1460 non-null int64\n",
      "BsmtFinSF1         1460 non-null int64\n",
      "BsmtFinSF2         1460 non-null int64\n",
      "BsmtUnfSF          1460 non-null int64\n",
      "TotalBsmtSF        1460 non-null int64\n",
      "1stFlrSF           1460 non-null int64\n",
      "2ndFlrSF           1460 non-null int64\n",
      "LowQualFinSF       1460 non-null int64\n",
      "GrLivArea          1460 non-null int64\n",
      "BsmtFullBath       1460 non-null int64\n",
      "BsmtHalfBath       1460 non-null int64\n",
      "FullBath           1460 non-null int64\n",
      "HalfBath           1460 non-null int64\n",
      "BedroomAbvGr       1460 non-null int64\n",
      "KitchenAbvGr       1460 non-null int64\n",
      "TotRmsAbvGrd       1460 non-null int64\n",
      "Fireplaces         1460 non-null int64\n",
      "GarageCars         1460 non-null int64\n",
      "GarageArea         1460 non-null int64\n",
      "WoodDeckSF         1460 non-null int64\n",
      "OpenPorchSF        1460 non-null int64\n",
      "EnclosedPorch      1460 non-null int64\n",
      "3SsnPorch          1460 non-null int64\n",
      "ScreenPorch        1460 non-null int64\n",
      "PoolArea           1460 non-null int64\n",
      "MiscVal            1460 non-null int64\n",
      "MoSold             1460 non-null int64\n",
      "YrSold             1460 non-null int64\n",
      "SalePrice          1460 non-null int64\n",
      "StreetOrd          1460 non-null int64\n",
      "UtilitiesOrd       1460 non-null int64\n",
      "ExterQualOrd       1460 non-null int64\n",
      "ExterCondOrd       1460 non-null int64\n",
      "KitchenQualOrd     1460 non-null int64\n",
      "Overall            1460 non-null int64\n",
      "ExternalOverall    1460 non-null int64\n",
      "dtypes: int64(42)\n",
      "memory usage: 479.1 KB\n"
     ]
    }
   ],
   "source": [
    "ames_test.info()"
   ]
  },
  {
   "cell_type": "code",
   "execution_count": 83,
   "metadata": {},
   "outputs": [],
   "source": [
    "X = ames_test.drop('SalePrice', axis=1)\n",
    "y = ames_test['SalePrice']"
   ]
  },
  {
   "cell_type": "code",
   "execution_count": 84,
   "metadata": {},
   "outputs": [],
   "source": [
    "from sklearn.model_selection import train_test_split\n",
    "\n",
    "X_train, X_test, y_train, y_test = train_test_split(X, y)"
   ]
  },
  {
   "cell_type": "code",
   "execution_count": 87,
   "metadata": {},
   "outputs": [],
   "source": [
    "X_train_scaled = StandardScaler().fit_transform(X_train)\n",
    "X_test_scaled = StandardScaler().fit_transform(X_test)"
   ]
  },
  {
   "cell_type": "code",
   "execution_count": 89,
   "metadata": {},
   "outputs": [],
   "source": [
    "from sklearn.linear_model import Ridge\n",
    "ridge = Ridge()\n",
    "params = {'alpha': [0.1, 0.7, 1.0, 3.0, 10]}"
   ]
  },
  {
   "cell_type": "code",
   "execution_count": 92,
   "metadata": {},
   "outputs": [],
   "source": [
    "from sklearn.model_selection import GridSearchCV\n",
    "grid = GridSearchCV(ridge, param_grid=params)"
   ]
  },
  {
   "cell_type": "code",
   "execution_count": 93,
   "metadata": {},
   "outputs": [
    {
     "data": {
      "text/plain": [
       "GridSearchCV(cv=None, error_score='raise',\n",
       "       estimator=Ridge(alpha=1.0, copy_X=True, fit_intercept=True, max_iter=None,\n",
       "   normalize=False, random_state=None, solver='auto', tol=0.001),\n",
       "       fit_params=None, iid=True, n_jobs=1,\n",
       "       param_grid={'alpha': [0.1, 0.7, 1.0, 3.0, 10]},\n",
       "       pre_dispatch='2*n_jobs', refit=True, return_train_score='warn',\n",
       "       scoring=None, verbose=0)"
      ]
     },
     "execution_count": 93,
     "metadata": {},
     "output_type": "execute_result"
    }
   ],
   "source": [
    "grid.fit(X_train_scaled, y_train)"
   ]
  },
  {
   "cell_type": "code",
   "execution_count": 96,
   "metadata": {},
   "outputs": [
    {
     "name": "stdout",
     "output_type": "stream",
     "text": [
      "Ridge(alpha=10, copy_X=True, fit_intercept=True, max_iter=None,\n",
      "   normalize=False, random_state=None, solver='auto', tol=0.001)\n"
     ]
    }
   ],
   "source": [
    "best = grid.best_estimator_\n",
    "print(best)"
   ]
  },
  {
   "cell_type": "code",
   "execution_count": 98,
   "metadata": {},
   "outputs": [
    {
     "data": {
      "text/plain": [
       "36472.836793861214"
      ]
     },
     "execution_count": 98,
     "metadata": {},
     "output_type": "execute_result"
    }
   ],
   "source": [
    "best.fit(X_train_scaled, y_train)\n",
    "pred = best.predict(X_test_scaled)\n",
    "mse = mean_squared_error(pred, y_test)\n",
    "np.sqrt(mse)"
   ]
  },
  {
   "cell_type": "code",
   "execution_count": null,
   "metadata": {},
   "outputs": [],
   "source": []
  },
  {
   "cell_type": "code",
   "execution_count": null,
   "metadata": {},
   "outputs": [],
   "source": []
  },
  {
   "cell_type": "code",
   "execution_count": null,
   "metadata": {},
   "outputs": [],
   "source": []
  },
  {
   "cell_type": "code",
   "execution_count": null,
   "metadata": {},
   "outputs": [],
   "source": []
  },
  {
   "cell_type": "code",
   "execution_count": null,
   "metadata": {},
   "outputs": [],
   "source": []
  },
  {
   "cell_type": "code",
   "execution_count": null,
   "metadata": {},
   "outputs": [],
   "source": []
  },
  {
   "cell_type": "code",
   "execution_count": null,
   "metadata": {},
   "outputs": [],
   "source": []
  },
  {
   "cell_type": "code",
   "execution_count": null,
   "metadata": {},
   "outputs": [],
   "source": []
  },
  {
   "cell_type": "markdown",
   "metadata": {},
   "source": [
    "# Conclusion"
   ]
  },
  {
   "cell_type": "markdown",
   "metadata": {},
   "source": [
    "Through identifying the best polynomial features via grid search, test/training and enhancing our model with multiple series, we have reduced the overall root mean square error by 32%."
   ]
  }
 ],
 "metadata": {
  "kernelspec": {
   "display_name": "Python 3",
   "language": "python",
   "name": "python3"
  },
  "language_info": {
   "codemirror_mode": {
    "name": "ipython",
    "version": 3
   },
   "file_extension": ".py",
   "mimetype": "text/x-python",
   "name": "python",
   "nbconvert_exporter": "python",
   "pygments_lexer": "ipython3",
   "version": "3.6.5"
  }
 },
 "nbformat": 4,
 "nbformat_minor": 2
}
